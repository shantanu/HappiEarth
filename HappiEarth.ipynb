{
 "cells": [
  {
   "attachments": {},
   "cell_type": "markdown",
   "metadata": {},
   "source": [
    "# HappiEarth\n",
    "<img src=\"logo.png\" alt=\"LOGO\" style=\"width: 250px;\"/>\n",
    "\n",
    "\n",
    "## How is happiness derived?\n",
    "\n",
    "A few years ago, a project was initiated called the World Happiness Report. The aim was to quantitatively describe how happy people were across the world. HappiEarth aims to correlate this index with a myriad of statistics from across the world. These statistics range from government perception, all the way to chocolate consumption. "
   ]
  },
  {
   "cell_type": "code",
   "execution_count": 1,
   "metadata": {},
   "outputs": [],
   "source": [
    "import numpy as np\n",
    "import pandas as pd\n",
    "import matplotlib.pyplot as plt\n",
    "import geopandas as gpd\n",
    "from sklearn import preprocessing as prp\n",
    "\n",
    "%matplotlib inline"
   ]
  },
  {
   "cell_type": "code",
   "execution_count": 2,
   "metadata": {},
   "outputs": [],
   "source": [
    "import plotly.plotly as py\n",
    "import plotly.graph_objs as go\n",
    "import plotly\n",
    "\n",
    "plotly.tools.set_credentials_file(username='adverma98', api_key='FMUGLtV7GvFPYdWLcLlx')\n"
   ]
  },
  {
   "cell_type": "code",
   "execution_count": 3,
   "metadata": {},
   "outputs": [],
   "source": [
    "def generate_map(z1, text1, colorscale1, colorbar_title1, title1, merged_data):\n",
    "    data3 = [ dict(\n",
    "        type = 'choropleth',\n",
    "        locations = merged_data['CODE'],\n",
    "        # visible = False,\n",
    "        z = z1,\n",
    "        text = text1,\n",
    "        colorscale = colorscale1,\n",
    "        autocolorscale = False,\n",
    "        reversescale = False,\n",
    "        marker = dict(\n",
    "            line = dict (\n",
    "                color = 'rgb(180,180,180)',\n",
    "                width = 0.5\n",
    "            ) ),\n",
    "        colorbar = dict(\n",
    "            autotick = False,\n",
    "            title = colorbar_title1),\n",
    "      ) ]\n",
    "\n",
    "    layout3 = dict(\n",
    "        title = title1,\n",
    "        geo = dict(\n",
    "            showframe = False,\n",
    "            showcoastlines = False,\n",
    "            projection = dict(\n",
    "                type = 'Mercator'\n",
    "            )\n",
    "        )\n",
    "    )\n",
    "\n",
    "    return dict( data=data3, layout=layout3 )"
   ]
  },
  {
   "cell_type": "markdown",
   "metadata": {},
   "source": [
    "## World Happiness Index\n",
    "\n",
    "The initial plot of the WHI."
   ]
  },
  {
   "cell_type": "code",
   "execution_count": 4,
   "metadata": {},
   "outputs": [],
   "source": [
    "happy2015 = pd.read_csv(\"./data/world-happiness-report/2015.csv\")\n",
    "happy2016 = pd.read_csv(\"./data/world-happiness-report/2016.csv\")\n",
    "happy2017 = pd.read_csv(\"./data/world-happiness-report/2017.csv\")\n",
    "happy2017.rename(columns={'Happiness.Score':'Happiness Score'}, \n",
    "                 inplace=True)"
   ]
  },
  {
   "cell_type": "code",
   "execution_count": 5,
   "metadata": {},
   "outputs": [],
   "source": [
    "df = pd.read_csv('https://raw.githubusercontent.com/plotly/datasets/master/2014_world_gdp_with_codes.csv')"
   ]
  },
  {
   "cell_type": "code",
   "execution_count": 22,
   "metadata": {
    "scrolled": false
   },
   "outputs": [
    {
     "data": {
      "text/html": [
       "<div>\n",
       "<style scoped>\n",
       "    .dataframe tbody tr th:only-of-type {\n",
       "        vertical-align: middle;\n",
       "    }\n",
       "\n",
       "    .dataframe tbody tr th {\n",
       "        vertical-align: top;\n",
       "    }\n",
       "\n",
       "    .dataframe thead th {\n",
       "        text-align: right;\n",
       "    }\n",
       "</style>\n",
       "<table border=\"1\" class=\"dataframe\">\n",
       "  <thead>\n",
       "    <tr style=\"text-align: right;\">\n",
       "      <th></th>\n",
       "      <th>COUNTRY</th>\n",
       "      <th>GDP (BILLIONS)</th>\n",
       "      <th>CODE</th>\n",
       "      <th>Country</th>\n",
       "      <th>Happiness.Rank</th>\n",
       "      <th>Happiness Score</th>\n",
       "      <th>Whisker.high</th>\n",
       "      <th>Whisker.low</th>\n",
       "      <th>Economy..GDP.per.Capita.</th>\n",
       "      <th>Family</th>\n",
       "      <th>Health..Life.Expectancy.</th>\n",
       "      <th>Freedom</th>\n",
       "      <th>Generosity</th>\n",
       "      <th>Trust..Government.Corruption.</th>\n",
       "      <th>Dystopia.Residual</th>\n",
       "    </tr>\n",
       "  </thead>\n",
       "  <tbody>\n",
       "    <tr>\n",
       "      <th>39</th>\n",
       "      <td>Central African Republic</td>\n",
       "      <td>1.73</td>\n",
       "      <td>CAF</td>\n",
       "      <td>Central African Republic</td>\n",
       "      <td>155.0</td>\n",
       "      <td>2.693</td>\n",
       "      <td>2.864884</td>\n",
       "      <td>2.521116</td>\n",
       "      <td>0.000000</td>\n",
       "      <td>0.000000</td>\n",
       "      <td>0.018773</td>\n",
       "      <td>0.270842</td>\n",
       "      <td>0.280876</td>\n",
       "      <td>0.056565</td>\n",
       "      <td>2.066005</td>\n",
       "    </tr>\n",
       "    <tr>\n",
       "      <th>33</th>\n",
       "      <td>Burundi</td>\n",
       "      <td>3.04</td>\n",
       "      <td>BDI</td>\n",
       "      <td>Burundi</td>\n",
       "      <td>154.0</td>\n",
       "      <td>2.905</td>\n",
       "      <td>3.074690</td>\n",
       "      <td>2.735310</td>\n",
       "      <td>0.091623</td>\n",
       "      <td>0.629794</td>\n",
       "      <td>0.151611</td>\n",
       "      <td>0.059901</td>\n",
       "      <td>0.204435</td>\n",
       "      <td>0.084148</td>\n",
       "      <td>1.683024</td>\n",
       "    </tr>\n",
       "    <tr>\n",
       "      <th>197</th>\n",
       "      <td>Tanzania</td>\n",
       "      <td>36.62</td>\n",
       "      <td>TZA</td>\n",
       "      <td>Tanzania</td>\n",
       "      <td>153.0</td>\n",
       "      <td>3.349</td>\n",
       "      <td>3.461430</td>\n",
       "      <td>3.236570</td>\n",
       "      <td>0.511136</td>\n",
       "      <td>1.041990</td>\n",
       "      <td>0.364509</td>\n",
       "      <td>0.390018</td>\n",
       "      <td>0.354256</td>\n",
       "      <td>0.066035</td>\n",
       "      <td>0.621130</td>\n",
       "    </tr>\n",
       "    <tr>\n",
       "      <th>194</th>\n",
       "      <td>Syria</td>\n",
       "      <td>64.70</td>\n",
       "      <td>SYR</td>\n",
       "      <td>Syria</td>\n",
       "      <td>152.0</td>\n",
       "      <td>3.462</td>\n",
       "      <td>3.663669</td>\n",
       "      <td>3.260331</td>\n",
       "      <td>0.777153</td>\n",
       "      <td>0.396103</td>\n",
       "      <td>0.500533</td>\n",
       "      <td>0.081539</td>\n",
       "      <td>0.493664</td>\n",
       "      <td>0.151347</td>\n",
       "      <td>1.061574</td>\n",
       "    </tr>\n",
       "    <tr>\n",
       "      <th>165</th>\n",
       "      <td>Rwanda</td>\n",
       "      <td>8.00</td>\n",
       "      <td>RWA</td>\n",
       "      <td>Rwanda</td>\n",
       "      <td>151.0</td>\n",
       "      <td>3.471</td>\n",
       "      <td>3.543030</td>\n",
       "      <td>3.398970</td>\n",
       "      <td>0.368746</td>\n",
       "      <td>0.945707</td>\n",
       "      <td>0.326425</td>\n",
       "      <td>0.581844</td>\n",
       "      <td>0.252756</td>\n",
       "      <td>0.455220</td>\n",
       "      <td>0.540061</td>\n",
       "    </tr>\n",
       "  </tbody>\n",
       "</table>\n",
       "</div>"
      ],
      "text/plain": [
       "                      COUNTRY  GDP (BILLIONS) CODE                   Country  \\\n",
       "39   Central African Republic            1.73  CAF  Central African Republic   \n",
       "33                    Burundi            3.04  BDI                   Burundi   \n",
       "197                  Tanzania           36.62  TZA                  Tanzania   \n",
       "194                     Syria           64.70  SYR                     Syria   \n",
       "165                    Rwanda            8.00  RWA                    Rwanda   \n",
       "\n",
       "     Happiness.Rank  Happiness Score  Whisker.high  Whisker.low  \\\n",
       "39            155.0            2.693      2.864884     2.521116   \n",
       "33            154.0            2.905      3.074690     2.735310   \n",
       "197           153.0            3.349      3.461430     3.236570   \n",
       "194           152.0            3.462      3.663669     3.260331   \n",
       "165           151.0            3.471      3.543030     3.398970   \n",
       "\n",
       "     Economy..GDP.per.Capita.    Family  Health..Life.Expectancy.   Freedom  \\\n",
       "39                   0.000000  0.000000                  0.018773  0.270842   \n",
       "33                   0.091623  0.629794                  0.151611  0.059901   \n",
       "197                  0.511136  1.041990                  0.364509  0.390018   \n",
       "194                  0.777153  0.396103                  0.500533  0.081539   \n",
       "165                  0.368746  0.945707                  0.326425  0.581844   \n",
       "\n",
       "     Generosity  Trust..Government.Corruption.  Dystopia.Residual  \n",
       "39     0.280876                       0.056565           2.066005  \n",
       "33     0.204435                       0.084148           1.683024  \n",
       "197    0.354256                       0.066035           0.621130  \n",
       "194    0.493664                       0.151347           1.061574  \n",
       "165    0.252756                       0.455220           0.540061  "
      ]
     },
     "execution_count": 22,
     "metadata": {},
     "output_type": "execute_result"
    }
   ],
   "source": [
    "merged_df_happy2015 = df.merge(happy2015, left_on=\"COUNTRY\", right_on=\"Country\", how=\"outer\").sort_values(by= 'Happiness Score', ascending = True)\n",
    "merged_df_happy2016 = df.merge(happy2016, left_on=\"COUNTRY\", right_on=\"Country\", how=\"outer\").sort_values(by= 'Happiness Score', ascending = True)\n",
    "merged_df_happy2017 = df.merge(happy2017, left_on=\"COUNTRY\", right_on=\"Country\", how=\"outer\").sort_values(by= 'Happiness Score', ascending = True)\n",
    "merged_df_happy2017.head()"
   ]
  },
  {
   "cell_type": "code",
   "execution_count": 7,
   "metadata": {},
   "outputs": [],
   "source": [
    "map_data_2015 = generate_map(merged_df_happy2015['Happiness Score'], merged_df_happy2015['COUNTRY'], [[0, \"rgb(80, 202, 206)\"],[1, \"rgb(251, 206, 17)\"]], \n",
    "             'Happiness Index', 'Happiness Score by Country', merged_df_happy2015)\n",
    "map_data_2016 = generate_map(merged_df_happy2016['Happiness Score'], merged_df_happy2016['COUNTRY'], [[0, \"rgb(80, 202, 206)\"],[1, \"rgb(251, 206, 17)\"]], \n",
    "             'Happiness Index', 'Happiness Score by Country', merged_df_happy2016)\n",
    "map_data_2017 = generate_map(merged_df_happy2017['Happiness Score'], merged_df_happy2017['COUNTRY'], [[0, \"rgb(80, 202, 206)\"],[1, \"rgb(251, 206, 17)\"]], \n",
    "             'Happiness Index', 'Happiness Score by Country', merged_df_happy2017)"
   ]
  },
  {
   "cell_type": "code",
   "execution_count": 8,
   "metadata": {},
   "outputs": [
    {
     "data": {
      "text/html": [
       "<iframe id=\"igraph\" scrolling=\"no\" style=\"border:none;\" seamless=\"seamless\" src=\"https://plot.ly/~adverma98/12.embed\" height=\"525px\" width=\"100%\"></iframe>"
      ],
      "text/plain": [
       "<plotly.tools.PlotlyDisplay object>"
      ]
     },
     "execution_count": 8,
     "metadata": {},
     "output_type": "execute_result"
    }
   ],
   "source": [
    "py.iplot(map_data_2017, validate=False, filename='happy-score-plot3')"
   ]
  },
  {
   "cell_type": "markdown",
   "metadata": {},
   "source": [
    "# Environmental Performance Index\n",
    "\n",
    "The Environmental Performance Index (EPI) aims to provide quantitative metrics for evaluating a country's environmental performance in different policy categories relative to clearly defined targets. The EPI ranks 180 countries on 24 performance indicators in the following 10 issue categories: air quality, water and sanitation, heavy metals, biodiversity and habitat, forests, fisheries, climate and energy, air pollution, water resources, and agriculture. Data is sourced from NASA and Columbia University."
   ]
  },
  {
   "cell_type": "code",
   "execution_count": 9,
   "metadata": {},
   "outputs": [],
   "source": [
    "epi = pd.read_excel(\"./data/2018-epi-xlsx/2018-epi.xlsx\", sheet_name=\"2018EPI_ScoresCurrent\")"
   ]
  },
  {
   "cell_type": "code",
   "execution_count": 10,
   "metadata": {},
   "outputs": [],
   "source": [
    "epi = merged_df_happy2017.merge(epi, left_on=\"CODE\", right_on=\"iso\", how=\"outer\")\n",
    "epi['EPI_NORM'] = (epi['EPI.current'])/((epi['EPI.current']).max())"
   ]
  },
  {
   "cell_type": "code",
   "execution_count": 11,
   "metadata": {},
   "outputs": [
    {
     "data": {
      "text/html": [
       "<iframe id=\"igraph\" scrolling=\"no\" style=\"border:none;\" seamless=\"seamless\" src=\"https://plot.ly/~adverma98/14.embed\" height=\"525px\" width=\"100%\"></iframe>"
      ],
      "text/plain": [
       "<plotly.tools.PlotlyDisplay object>"
      ]
     },
     "execution_count": 11,
     "metadata": {},
     "output_type": "execute_result"
    }
   ],
   "source": [
    "map_data_2017_EPI = generate_map(epi['EPI_NORM'], epi['COUNTRY'], [[0, \"rgb(122, 103, 22)\"],[0.65, \"rgb(0, 204, 22)\"],[1, \"rgb(20, 255, 46)\"]], \n",
    "             'Environment Performance Index', 'Normalized EPI by Country', epi)\n",
    "py.iplot(map_data_2017_EPI, validate=False, filename='epi-norm-map')"
   ]
  },
  {
   "cell_type": "markdown",
   "metadata": {},
   "source": [
    "## Government Performance Index (GPI)\n",
    "\n",
    "The government performance index measures the trust in the government and percieved corruption, as well as the social freedom to make life choices. We believe that both of these are important properties of happiness. Data from Gallup polls across the world. "
   ]
  },
  {
   "cell_type": "code",
   "execution_count": 13,
   "metadata": {},
   "outputs": [],
   "source": [
    "gpi = merged_df_happy2017"
   ]
  },
  {
   "cell_type": "code",
   "execution_count": 14,
   "metadata": {},
   "outputs": [],
   "source": [
    "gpi['FREEDOM_NORM'] = (gpi['Freedom'])/(gpi['Freedom'].max())\n",
    "gpi['TRUST_NORM'] = (gpi['Trust..Government.Corruption.'])/(gpi['Trust..Government.Corruption.'].max())\n",
    "gpi['GPI'] = (gpi['TRUST_NORM'] + gpi['FREEDOM_NORM'])/2"
   ]
  },
  {
   "cell_type": "code",
   "execution_count": 15,
   "metadata": {},
   "outputs": [
    {
     "data": {
      "text/html": [
       "<iframe id=\"igraph\" scrolling=\"no\" style=\"border:none;\" seamless=\"seamless\" src=\"https://plot.ly/~adverma98/16.embed\" height=\"525px\" width=\"100%\"></iframe>"
      ],
      "text/plain": [
       "<plotly.tools.PlotlyDisplay object>"
      ]
     },
     "execution_count": 15,
     "metadata": {},
     "output_type": "execute_result"
    }
   ],
   "source": [
    "figFreedom = generate_map(gpi['GPI'], gpi['COUNTRY'], [[0, \"rgb(9, 44, 99)\"],[0.4, \"rgb(65, 133, 242)\"],[1, \"rgb(142, 183, 249)\"]], \n",
    "             'Government Performance Index', 'Government Performance Index', gpi)\n",
    "py.iplot(figFreedom, validate=False, filename='freedom-norm-map')"
   ]
  },
  {
   "cell_type": "markdown",
   "metadata": {},
   "source": [
    "## Chocolate Performance Index"
   ]
  },
  {
   "cell_type": "code",
   "execution_count": 16,
   "metadata": {},
   "outputs": [
    {
     "data": {
      "text/html": [
       "<div>\n",
       "<style scoped>\n",
       "    .dataframe tbody tr th:only-of-type {\n",
       "        vertical-align: middle;\n",
       "    }\n",
       "\n",
       "    .dataframe tbody tr th {\n",
       "        vertical-align: top;\n",
       "    }\n",
       "\n",
       "    .dataframe thead th {\n",
       "        text-align: right;\n",
       "    }\n",
       "</style>\n",
       "<table border=\"1\" class=\"dataframe\">\n",
       "  <thead>\n",
       "    <tr style=\"text-align: right;\">\n",
       "      <th></th>\n",
       "      <th>Country</th>\n",
       "      <th>Measure Values</th>\n",
       "    </tr>\n",
       "  </thead>\n",
       "  <tbody>\n",
       "    <tr>\n",
       "      <th>0</th>\n",
       "      <td>Afghanistan</td>\n",
       "      <td>221.877890</td>\n",
       "    </tr>\n",
       "    <tr>\n",
       "      <th>1</th>\n",
       "      <td>Albania</td>\n",
       "      <td>50.718386</td>\n",
       "    </tr>\n",
       "    <tr>\n",
       "      <th>2</th>\n",
       "      <td>Armenia</td>\n",
       "      <td>47.513463</td>\n",
       "    </tr>\n",
       "    <tr>\n",
       "      <th>3</th>\n",
       "      <td>Azerbaijan</td>\n",
       "      <td>11.006310</td>\n",
       "    </tr>\n",
       "    <tr>\n",
       "      <th>4</th>\n",
       "      <td>Bangladesh</td>\n",
       "      <td>300.027134</td>\n",
       "    </tr>\n",
       "  </tbody>\n",
       "</table>\n",
       "</div>"
      ],
      "text/plain": [
       "       Country  Measure Values\n",
       "0  Afghanistan      221.877890\n",
       "1      Albania       50.718386\n",
       "2      Armenia       47.513463\n",
       "3   Azerbaijan       11.006310\n",
       "4   Bangladesh      300.027134"
      ]
     },
     "execution_count": 16,
     "metadata": {},
     "output_type": "execute_result"
    }
   ],
   "source": [
    "chocolate = pd.read_csv('./data/chocolate_data.csv')\n",
    "chocolate = chocolate[(chocolate['Consumption Segment'] == 'All') & (chocolate[\"Measure Names\"] == \"US$\")]\n",
    "chocolate = chocolate.reset_index()[['Country', 'Measure Values']]\n",
    "chocolate.head()"
   ]
  },
  {
   "cell_type": "code",
   "execution_count": 17,
   "metadata": {},
   "outputs": [
    {
     "data": {
      "text/plain": [
       "231"
      ]
     },
     "execution_count": 17,
     "metadata": {},
     "output_type": "execute_result"
    }
   ],
   "source": [
    "chocolate = chocolate.merge(df, left_on=\"Country\", right_on=\"COUNTRY\", how='outer')[['Country', 'Measure Values', 'CODE']]\n",
    "len(chocolate)"
   ]
  },
  {
   "cell_type": "code",
   "execution_count": 18,
   "metadata": {},
   "outputs": [
    {
     "data": {
      "text/html": [
       "<div>\n",
       "<style scoped>\n",
       "    .dataframe tbody tr th:only-of-type {\n",
       "        vertical-align: middle;\n",
       "    }\n",
       "\n",
       "    .dataframe tbody tr th {\n",
       "        vertical-align: top;\n",
       "    }\n",
       "\n",
       "    .dataframe thead th {\n",
       "        text-align: right;\n",
       "    }\n",
       "</style>\n",
       "<table border=\"1\" class=\"dataframe\">\n",
       "  <thead>\n",
       "    <tr style=\"text-align: right;\">\n",
       "      <th></th>\n",
       "      <th>Country</th>\n",
       "      <th>Measure Values</th>\n",
       "      <th>CODE</th>\n",
       "      <th>CHOC_NORM</th>\n",
       "    </tr>\n",
       "  </thead>\n",
       "  <tbody>\n",
       "    <tr>\n",
       "      <th>0</th>\n",
       "      <td>Afghanistan</td>\n",
       "      <td>221.877890</td>\n",
       "      <td>AFG</td>\n",
       "      <td>0.039661</td>\n",
       "    </tr>\n",
       "    <tr>\n",
       "      <th>1</th>\n",
       "      <td>Albania</td>\n",
       "      <td>50.718386</td>\n",
       "      <td>ALB</td>\n",
       "      <td>0.009066</td>\n",
       "    </tr>\n",
       "    <tr>\n",
       "      <th>2</th>\n",
       "      <td>Armenia</td>\n",
       "      <td>47.513463</td>\n",
       "      <td>ARM</td>\n",
       "      <td>0.008493</td>\n",
       "    </tr>\n",
       "    <tr>\n",
       "      <th>3</th>\n",
       "      <td>Azerbaijan</td>\n",
       "      <td>11.006310</td>\n",
       "      <td>AZE</td>\n",
       "      <td>0.001967</td>\n",
       "    </tr>\n",
       "    <tr>\n",
       "      <th>4</th>\n",
       "      <td>Bangladesh</td>\n",
       "      <td>300.027134</td>\n",
       "      <td>BGD</td>\n",
       "      <td>0.053630</td>\n",
       "    </tr>\n",
       "  </tbody>\n",
       "</table>\n",
       "</div>"
      ],
      "text/plain": [
       "       Country  Measure Values CODE  CHOC_NORM\n",
       "0  Afghanistan      221.877890  AFG   0.039661\n",
       "1      Albania       50.718386  ALB   0.009066\n",
       "2      Armenia       47.513463  ARM   0.008493\n",
       "3   Azerbaijan       11.006310  AZE   0.001967\n",
       "4   Bangladesh      300.027134  BGD   0.053630"
      ]
     },
     "execution_count": 18,
     "metadata": {},
     "output_type": "execute_result"
    }
   ],
   "source": [
    "chocolate['CHOC_NORM'] = (chocolate['Measure Values']) / (chocolate['Measure Values'].max())\n",
    "chocolate.head()"
   ]
  },
  {
   "cell_type": "code",
   "execution_count": 19,
   "metadata": {},
   "outputs": [
    {
     "data": {
      "text/html": [
       "<iframe id=\"igraph\" scrolling=\"no\" style=\"border:none;\" seamless=\"seamless\" src=\"https://plot.ly/~adverma98/18.embed\" height=\"525px\" width=\"100%\"></iframe>"
      ],
      "text/plain": [
       "<plotly.tools.PlotlyDisplay object>"
      ]
     },
     "execution_count": 19,
     "metadata": {},
     "output_type": "execute_result"
    }
   ],
   "source": [
    "figChocolate = generate_map(chocolate['CHOC_NORM'], chocolate['Country'], [[0, \"rgb(9, 44, 99)\"],[0.4, \"rgb(65, 133, 242)\"],[1, \"rgb(142, 183, 249)\"]], \n",
    "             'Chocolate Performance Index', 'Chocolate Performance Index', chocolate)\n",
    "py.iplot(figChocolate, validate=False, filename='chocolate-norm-map')"
   ]
  },
  {
   "cell_type": "markdown",
   "metadata": {},
   "source": [
    "## Calculating Correlations"
   ]
  },
  {
   "cell_type": "code",
   "execution_count": 26,
   "metadata": {},
   "outputs": [
    {
     "data": {
      "text/html": [
       "<div>\n",
       "<style scoped>\n",
       "    .dataframe tbody tr th:only-of-type {\n",
       "        vertical-align: middle;\n",
       "    }\n",
       "\n",
       "    .dataframe tbody tr th {\n",
       "        vertical-align: top;\n",
       "    }\n",
       "\n",
       "    .dataframe thead th {\n",
       "        text-align: right;\n",
       "    }\n",
       "</style>\n",
       "<table border=\"1\" class=\"dataframe\">\n",
       "  <thead>\n",
       "    <tr style=\"text-align: right;\">\n",
       "      <th></th>\n",
       "      <th>GPI</th>\n",
       "      <th>EPI_NORM</th>\n",
       "      <th>CHOC_NORM</th>\n",
       "      <th>Happiness Score</th>\n",
       "    </tr>\n",
       "  </thead>\n",
       "  <tbody>\n",
       "    <tr>\n",
       "      <th>GPI</th>\n",
       "      <td>1.000000</td>\n",
       "      <td>0.227511</td>\n",
       "      <td>0.000647</td>\n",
       "      <td>0.023081</td>\n",
       "    </tr>\n",
       "    <tr>\n",
       "      <th>EPI_NORM</th>\n",
       "      <td>0.227511</td>\n",
       "      <td>1.000000</td>\n",
       "      <td>0.038189</td>\n",
       "      <td>0.438330</td>\n",
       "    </tr>\n",
       "    <tr>\n",
       "      <th>CHOC_NORM</th>\n",
       "      <td>0.000647</td>\n",
       "      <td>0.038189</td>\n",
       "      <td>1.000000</td>\n",
       "      <td>0.001834</td>\n",
       "    </tr>\n",
       "    <tr>\n",
       "      <th>Happiness Score</th>\n",
       "      <td>0.023081</td>\n",
       "      <td>0.438330</td>\n",
       "      <td>0.001834</td>\n",
       "      <td>1.000000</td>\n",
       "    </tr>\n",
       "  </tbody>\n",
       "</table>\n",
       "</div>"
      ],
      "text/plain": [
       "                      GPI  EPI_NORM  CHOC_NORM  Happiness Score\n",
       "GPI              1.000000  0.227511   0.000647         0.023081\n",
       "EPI_NORM         0.227511  1.000000   0.038189         0.438330\n",
       "CHOC_NORM        0.000647  0.038189   1.000000         0.001834\n",
       "Happiness Score  0.023081  0.438330   0.001834         1.000000"
      ]
     },
     "execution_count": 26,
     "metadata": {},
     "output_type": "execute_result"
    }
   ],
   "source": [
    "corr_df = gpi.merge(epi, left_on=\"CODE\", right_on='CODE').merge(merged_df_happy2017, left_on='CODE', right_on='CODE').merge(chocolate, left_on='CODE', right_on='CODE')\n",
    "corr_df = corr_df[['CODE', 'GPI', 'EPI_NORM', 'CHOC_NORM', 'Happiness Score']]\n",
    "corr_df.corr()"
   ]
  },
  {
   "cell_type": "markdown",
   "metadata": {},
   "source": [
    "From the above table, we see that the correlation between EPI norm and Happiness is very high! It means that the environment is a very important factor in people's happiness across the world!!"
   ]
  },
  {
   "cell_type": "code",
   "execution_count": null,
   "metadata": {},
   "outputs": [],
   "source": []
  }
 ],
 "metadata": {
  "kernelspec": {
   "display_name": "Python 3",
   "language": "python",
   "name": "python3"
  },
  "language_info": {
   "codemirror_mode": {
    "name": "ipython",
    "version": 3
   },
   "file_extension": ".py",
   "mimetype": "text/x-python",
   "name": "python",
   "nbconvert_exporter": "python",
   "pygments_lexer": "ipython3",
   "version": "3.6.5"
  }
 },
 "nbformat": 4,
 "nbformat_minor": 2
}
